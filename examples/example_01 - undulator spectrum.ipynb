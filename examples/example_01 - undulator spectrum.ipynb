{
 "cells": [
  {
   "cell_type": "markdown",
   "metadata": {},
   "source": [
    "<a id=\"toc\"></a>\n",
    "# barc4sr: \n",
    "## Example 01 - Emission spectra for an ideal and tabulated ondulator\n",
    "\n",
    "[rafael.celestre@synchrotron-soleil.fr](mailto:rafael.celestre@synchrotron-soleil.fr)\n",
    "\n",
    "<hr style=\"border:1px solid orange\">\n"
   ]
  },
  {
   "cell_type": "code",
   "execution_count": 1,
   "metadata": {},
   "outputs": [
    {
     "name": "stdout",
     "output_type": "stream",
     "text": [
      "c:\\Users\\celestre\\AppData\\Local\\miniconda3\\envs\\oasys\\python.exe\n",
      "3.8.18 (default, Sep 11 2023, 13:39:12) [MSC v.1916 64 bit (AMD64)]\n"
     ]
    }
   ],
   "source": [
    "__author__ = ['Rafael Celestre']\n",
    "__contact__ = 'rafael.celestre@synchrotron-soleil.fr'\n",
    "__license__ = 'GPL-3.0'\n",
    "__copyright__ = 'Synchrotron SOLEIL, Saint Aubin, France'\n",
    "__created__ = '22/MAR/2024'\n",
    "__changed__ = '16/JUN/2024'\n",
    "\n",
    "import os\n",
    "import sys\n",
    "\n",
    "import barc4sr.sr_undulator as und\n",
    "import numpy as np\n",
    "from barc4plots.barc4plots import PlotManager\n",
    "from barc4sr.processing import read_spectrum\n",
    "from barc4sr.utils import ElectronBeam, MagneticStructure, SynchrotronSource, write_syned_file\n",
    "\n",
    "# checking we are using the correct python:\n",
    "print(sys.executable)\n",
    "print(sys.version)\n",
    "\n",
    "# # benchmarking tools\n",
    "%load_ext autoreload\n",
    "%autoreload 2\n",
    "# %matplotlib widget"
   ]
  },
  {
   "cell_type": "markdown",
   "metadata": {},
   "source": [
    "### Creation of SYNED input file (.json)\n",
    "\n",
    "[Back to the top](#toc)\n",
    "\n",
    "The SYNED Light Source file containing the electron beam parameters and the undulator parameters\n",
    "is necessary for using barc4sr. While the preferred method for generating it remains [OASYS](https://oasys-kit.github.io/), \n",
    "barc4sr provides its own functions methods.\n"
   ]
  },
  {
   "cell_type": "code",
   "execution_count": 2,
   "metadata": {},
   "outputs": [],
   "source": [
    "straight_section = ElectronBeam()\n",
    "\n",
    "straight_section.from_twiss(energy=2.75, energy_spread=0.001025, current=0.500,\n",
    "                            emittance=3.939e-9, coupling=1/100,\n",
    "                            emittance_x=None, emittance_y=None,\n",
    "                            beta_x=4.789, beta_y=3.7497, \n",
    "                            alpha_x=-0.3858, alpha_y=-0.7746,\n",
    "                            eta_x=0.1804, eta_y=0.0044,\n",
    "                            etap_x=0.0007, etap_y=-0.0025)\n",
    "\n",
    "u64 = MagneticStructure(K_vertical=0.0,\n",
    "                        K_horizontal=0.0,\n",
    "                        period_length=64e-3,\n",
    "                        number_of_periods=28.0)\n",
    "\n",
    "u64.set_resonant_energy(50, 1, straight_section.energy_in_GeV, \"v\")\n",
    "\n",
    "hermes = SynchrotronSource(straight_section, u64)\n",
    "hermes.write_syned_config(\".\\light_sources\\soleil_hu64.json\", \"SOLEIL-HU64\")\n"
   ]
  },
  {
   "cell_type": "code",
   "execution_count": 3,
   "metadata": {},
   "outputs": [],
   "source": [
    "ei = 35\n",
    "ef = 375\n",
    "ne = int((ef-ei)/0.1) + 1"
   ]
  },
  {
   "cell_type": "markdown",
   "metadata": {},
   "source": [
    "## Ideal undulator"
   ]
  },
  {
   "cell_type": "markdown",
   "metadata": {},
   "source": [
    "### Calculation of the **on-axis** spectrum of an ideal planar undulator\n",
    "\n",
    "This example show different ways or calling ```sr_undulator.spectrum(*args, **kwargs)```\n",
    "for a filament beam 20m downstream the centre of the straight section - no emittance nor \n",
    "energy spread are accounted for here. \n",
    "\n",
    "[Back to the top](#toc)"
   ]
  },
  {
   "cell_type": "code",
   "execution_count": 5,
   "metadata": {},
   "outputs": [
    {
     "name": "stdout",
     "output_type": "stream",
     "text": [
      "Undulator spectrum calculation using SRW. Please wait...\n"
     ]
    },
    {
     "ename": "ZeroDivisionError",
     "evalue": "division by zero",
     "output_type": "error",
     "traceback": [
      "\u001b[1;31m---------------------------------------------------------------------------\u001b[0m",
      "\u001b[1;31mZeroDivisionError\u001b[0m                         Traceback (most recent call last)",
      "Cell \u001b[1;32mIn[5], line 1\u001b[0m\n\u001b[1;32m----> 1\u001b[0m spectrum \u001b[38;5;241m=\u001b[39m \u001b[43mund\u001b[49m\u001b[38;5;241;43m.\u001b[39;49m\u001b[43mspectrum\u001b[49m\u001b[43m(\u001b[49m\u001b[43mfile_name\u001b[49m\u001b[38;5;241;43m=\u001b[39;49m\u001b[38;5;124;43m\"\u001b[39;49m\u001b[38;5;124;43m.\u001b[39;49m\u001b[38;5;124;43m\\\u001b[39;49m\u001b[38;5;124;43mexample_01\u001b[39;49m\u001b[38;5;124;43m\\\u001b[39;49m\u001b[38;5;124;43mSOLEIL-U64mm_on_axis\u001b[39;49m\u001b[38;5;124;43m\"\u001b[39;49m\u001b[43m,\u001b[49m\n\u001b[0;32m      2\u001b[0m \u001b[43m                        \u001b[49m\u001b[43mjson_file\u001b[49m\u001b[38;5;241;43m=\u001b[39;49m\u001b[38;5;124;43m\"\u001b[39;49m\u001b[38;5;124;43m.\u001b[39;49m\u001b[38;5;124;43m\\\u001b[39;49m\u001b[38;5;124;43mlight_sources\u001b[39;49m\u001b[38;5;124;43m\\\u001b[39;49m\u001b[38;5;124;43msoleil_hu64.json\u001b[39;49m\u001b[38;5;124;43m\"\u001b[39;49m\u001b[43m,\u001b[49m\n\u001b[0;32m      3\u001b[0m \u001b[43m                        \u001b[49m\u001b[43mphoton_energy_min\u001b[49m\u001b[38;5;241;43m=\u001b[39;49m\u001b[43mei\u001b[49m\u001b[43m,\u001b[49m\n\u001b[0;32m      4\u001b[0m \u001b[43m                        \u001b[49m\u001b[43mphoton_energy_max\u001b[49m\u001b[38;5;241;43m=\u001b[39;49m\u001b[43mef\u001b[49m\u001b[43m,\u001b[49m\n\u001b[0;32m      5\u001b[0m \u001b[43m                        \u001b[49m\u001b[43mphoton_energy_points\u001b[49m\u001b[38;5;241;43m=\u001b[39;49m\u001b[43mne\u001b[49m\u001b[43m,\u001b[49m\n\u001b[0;32m      6\u001b[0m \u001b[43m                        \u001b[49m\u001b[43mobservation_point\u001b[49m\u001b[38;5;241;43m=\u001b[39;49m\u001b[38;5;241;43m20\u001b[39;49m\u001b[43m,\u001b[49m\n\u001b[0;32m      7\u001b[0m \u001b[43m                        \u001b[49m\u001b[43mhor_slit\u001b[49m\u001b[38;5;241;43m=\u001b[39;49m\u001b[38;5;241;43m1e-23\u001b[39;49m\u001b[43m,\u001b[49m\n\u001b[0;32m      8\u001b[0m \u001b[43m                        \u001b[49m\u001b[43mver_slit\u001b[49m\u001b[38;5;241;43m=\u001b[39;49m\u001b[38;5;241;43m1e-23\u001b[39;49m\u001b[43m,\u001b[49m\n\u001b[0;32m      9\u001b[0m \u001b[43m                        \u001b[49m\u001b[43mKv_symmetry\u001b[49m\u001b[38;5;241;43m=\u001b[39;49m\u001b[38;5;241;43m-\u001b[39;49m\u001b[38;5;241;43m1\u001b[39;49m\u001b[43m,\u001b[49m\n\u001b[0;32m     10\u001b[0m \u001b[43m                        \u001b[49m\u001b[43melectron_trajectory\u001b[49m\u001b[38;5;241;43m=\u001b[39;49m\u001b[38;5;28;43;01mTrue\u001b[39;49;00m\u001b[43m)\u001b[49m\n\u001b[0;32m     12\u001b[0m \u001b[38;5;66;03m# eTraj_ideal = und.read_electron_trajectory(r\".\\example_01\\SOLEIL-U64mm_on_axis_eTraj.dat\")\u001b[39;00m\n\u001b[0;32m     13\u001b[0m \u001b[38;5;66;03m# magField = np.asarray([eTraj_ideal[\"Z\"], eTraj_ideal[\"Bx\"], eTraj_ideal[\"By\"], eTraj_ideal[\"Bz\"]]).T\u001b[39;00m\n\u001b[0;32m     14\u001b[0m \u001b[38;5;66;03m# magField = und.generate_srw_magnetic_field(magField, r\".\\example_01\\SOLEIL-U64mm_srw_magField.dat\")\u001b[39;00m\n",
      "File \u001b[1;32mc:\\users\\celestre\\_projects\\simulations\\_software\\barc4sr\\barc4sr\\sr_undulator.py:153\u001b[0m, in \u001b[0;36mspectrum\u001b[1;34m(file_name, json_file, photon_energy_min, photon_energy_max, photon_energy_points, **kwargs)\u001b[0m\n\u001b[0;32m    146\u001b[0m         calculation \u001b[38;5;241m=\u001b[39m \u001b[38;5;241m2\u001b[39m\n\u001b[0;32m    148\u001b[0m bl \u001b[38;5;241m=\u001b[39m syned_dictionary(json_file, magnetic_measurement, observation_point, hor_slit, \n\u001b[0;32m    149\u001b[0m                     ver_slit, hor_slit_cen, ver_slit_cen, \n\u001b[0;32m    150\u001b[0m                     Kh\u001b[38;5;241m=\u001b[39mKh, Kh_phase\u001b[38;5;241m=\u001b[39mKh_phase, Kh_symmetry\u001b[38;5;241m=\u001b[39mKh_symmetry, \n\u001b[0;32m    151\u001b[0m                     Kv\u001b[38;5;241m=\u001b[39mKv, Kv_phase\u001b[38;5;241m=\u001b[39mKv_phase, Kv_symmetry\u001b[38;5;241m=\u001b[39mKv_symmetry)\n\u001b[1;32m--> 153\u001b[0m \u001b[38;5;241;43m1\u001b[39;49m\u001b[38;5;241;43m/\u001b[39;49m\u001b[38;5;241;43m0\u001b[39;49m\n\u001b[0;32m    155\u001b[0m eBeam, magFldCnt, eTraj \u001b[38;5;241m=\u001b[39m set_light_source(file_name, bl, filament_beam, \n\u001b[0;32m    156\u001b[0m                                            energy_spread, magnetic_measurement,\n\u001b[0;32m    157\u001b[0m                                            tabulated_undulator_mthd, \n\u001b[0;32m    158\u001b[0m                                            electron_trajectory)\n\u001b[0;32m    160\u001b[0m \u001b[38;5;66;03m# ----------------------------------------------------------------------------------\u001b[39;00m\n\u001b[0;32m    161\u001b[0m \u001b[38;5;66;03m# spectrum calculations\u001b[39;00m\n\u001b[0;32m    162\u001b[0m \u001b[38;5;66;03m# ----------------------------------------------------------------------------------\u001b[39;00m\n",
      "\u001b[1;31mZeroDivisionError\u001b[0m: division by zero"
     ]
    }
   ],
   "source": [
    "spectrum = und.spectrum(file_name=\".\\example_01\\SOLEIL-U64mm_on_axis\",\n",
    "                        json_file=\".\\light_sources\\soleil_hu64.json\",\n",
    "                        photon_energy_min=ei,\n",
    "                        photon_energy_max=ef,\n",
    "                        photon_energy_points=ne,\n",
    "                        observation_point=20,\n",
    "                        hor_slit=1e-23,\n",
    "                        ver_slit=1e-23,\n",
    "                        Kv_symmetry=-1,\n",
    "                        electron_trajectory=True)\n",
    "\n",
    "# eTraj_ideal = und.read_electron_trajectory(r\".\\example_01\\SOLEIL-U64mm_on_axis_eTraj.dat\")\n",
    "# magField = np.asarray([eTraj_ideal[\"Z\"], eTraj_ideal[\"Bx\"], eTraj_ideal[\"By\"], eTraj_ideal[\"Bz\"]]).T\n",
    "# magField = und.generate_srw_magnetic_field(magField, r\".\\example_01\\SOLEIL-U64mm_srw_magField.dat\")"
   ]
  },
  {
   "cell_type": "markdown",
   "metadata": {},
   "source": [
    "Calculations for lower harmonics are usually very fast, but when moving away from the undulator regime into\n",
    "the wiggler regime, calculations slow down. In this case, the calculations could/should be done in parallel:\n",
    "\n",
    "```python\n",
    "    energy, flux = und.undulator_spectrum(file_name=\".\\example_01\\SOLEIL-U64mm_on_axis_parallel\",\n",
    "                                    json_file=\".\\light_sources\\soleil_hu64.json\",\n",
    "                                    photon_energy_min=ei,\n",
    "                                    photon_energy_max=ef,\n",
    "                                    photon_energy_points=ne,\n",
    "                                    observation_point=20,\n",
    "                                    hor_slit=1e-23,\n",
    "                                    ver_slit=1e-23,\n",
    "                                    Kv_symmetry=-1,\n",
    "                                    parallel = True)\n",
    "```"
   ]
  },
  {
   "cell_type": "code",
   "execution_count": null,
   "metadata": {},
   "outputs": [],
   "source": [
    "spectrum = read_undulator_spectrum([\".\\example_01\\SOLEIL-U64mm_on_axis_spectrum.pickle\"])\n",
    "\n",
    "img = BarcPlotManager(spectrum[\"spectrum\"][\"flux\"],  spectrum[\"spectrum\"][\"energy\"])\n",
    "img.additional_info(None, \"energy [eV]\",  \"spectral flux [ph/s/0.1%bw]\")\n",
    "img.aesthetics(400, True, True, 3 , 1, True, 4).info_1d_plot(2, None, 1, \"-\", False, 0, 1).plot_1d(enable=True)\n",
    "\n",
    "# spectrum_parallel = read_undulator_spectrum([\".\\example_01\\SOLEIL-U64mm_on_axis_parallel_spectrum.pickle\"])\n",
    "# img.image = spectrum_parallel[\"spectrum\"][\"flux\"]\n",
    "# img.x = spectrum_parallel[\"spectrum\"][\"energy\"]\n",
    "# img.info_1d_plot(3, \"parallel\", 1, \"-\", False, 0, 1).plot_1d(enable=False, hold=True)\n"
   ]
  },
  {
   "cell_type": "markdown",
   "metadata": {},
   "source": [
    "### Calculation of the on spectrum of an ideal planar undulator **through a slit**\n",
    "\n",
    "This example show different ways or calling ```xoppy.undulator_spectrum(*args, **kwargs)``` for a slit 20m (100 µrad) downstream the centre of the straight section - emittance and energy spread are taken into account in this calculation\n"
   ]
  },
  {
   "cell_type": "code",
   "execution_count": null,
   "metadata": {},
   "outputs": [],
   "source": [
    "energy, flux = und.undulator_spectrum(file_name=\".\\example_01\\SOLEIL-U64mm_slit\",\n",
    "                                  json_file=\".\\light_sources\\soleil_hu64.json\",\n",
    "                                  photon_energy_min=ei,\n",
    "                                  photon_energy_max=ef,\n",
    "                                  photon_energy_points=ne,\n",
    "                                  observation_point=20,\n",
    "                                  hor_slit=2e-3,\n",
    "                                  ver_slit=2e-3,\n",
    "                                  Kv_symmetry=-1)"
   ]
  },
  {
   "cell_type": "markdown",
   "metadata": {},
   "source": [
    "Calculations for lower harmonics are usually very fast, but when moving away from the undulator regime into\n",
    "the wiggler regime, calculations slow down. In this case, the calculations could/should be done in parallel:\n",
    "\n",
    "```python\n",
    "energy, flux = und.undulator_spectrum(file_name=\".\\example_01\\SOLEIL-U64mm_slit_par\",\n",
    "                                  json_file=\".\\light_sources\\soleil_hu64.json\",\n",
    "                                  photon_energy_min=ei,\n",
    "                                  photon_energy_max=ef,\n",
    "                                  photon_energy_points=ne,\n",
    "                                  observation_point=20,\n",
    "                                  hor_slit=2e-3,\n",
    "                                  ver_slit=2e-3,\n",
    "                                  Kv_symmetry=-1,\n",
    "                                  parallel = True)\n",
    "```"
   ]
  },
  {
   "cell_type": "code",
   "execution_count": null,
   "metadata": {},
   "outputs": [],
   "source": [
    "energy, flux = und.undulator_spectrum(file_name=\".\\example_01\\SOLEIL-U64mm_slit_me\",\n",
    "                                  json_file=\".\\light_sources\\soleil_hu64.json\",\n",
    "                                  photon_energy_min=ei,\n",
    "                                  photon_energy_max=ef,\n",
    "                                  photon_energy_points=ne,\n",
    "                                  observation_point=20,\n",
    "                                  hor_slit=2e-3,\n",
    "                                  ver_slit=2e-3,\n",
    "                                  Kv_symmetry=-1,\n",
    "                                  number_macro_electrons = 1000,\n",
    "                                  parallel = True)"
   ]
  },
  {
   "cell_type": "code",
   "execution_count": null,
   "metadata": {},
   "outputs": [],
   "source": [
    "spectrum = read_undulator_spectrum([\".\\example_01\\SOLEIL-U64mm_slit_spectrum.pickle\"])\n",
    "img = BarcPlotManager(spectrum[\"spectrum\"][\"flux\"],  spectrum[\"spectrum\"][\"energy\"])\n",
    "img.additional_info(None, \"energy [eV]\",  \"spectral flux [ph/s/0.1%bw]\")\n",
    "img.aesthetics(400, True, True, 3 , 1, True, 4).info_1d_plot(2, 'conv', 0, \"-\", False, 0, 1).plot_1d(enable=False)\n",
    "\n",
    "spectrum_parallel = read_undulator_spectrum([\".\\example_01\\SOLEIL-U64mm_slit_me_spectrum.pickle\"])\n",
    "img.image = spectrum_parallel[\"spectrum\"][\"flux\"]\n",
    "img.x = spectrum_parallel[\"spectrum\"][\"energy\"]\n",
    "img.info_1d_plot(3, \"me\", 1, \"-\", False, 0, 1).plot_1d(enable=True, hold=True)\n"
   ]
  },
  {
   "cell_type": "markdown",
   "metadata": {},
   "source": [
    "## Tabulated undulator"
   ]
  },
  {
   "cell_type": "markdown",
   "metadata": {},
   "source": [
    "### Calculation of the **on-axis** spectrum of a tabulated planar undulator\n",
    "\n",
    "This example show different ways or calling ```xoppy.undulator_spectrum(*args, **kwargs)``` for a filament beam 20m downstream the \n",
    "centre of the straight section - no emittance nor energy spread are accounted for here. \n"
   ]
  },
  {
   "cell_type": "code",
   "execution_count": null,
   "metadata": {},
   "outputs": [],
   "source": [
    "energy, flux = und.undulator_spectrum(file_name=\".\\example_01\\SOLEIL-tabU64mm_on_axis\",\n",
    "                                  json_file=\".\\light_sources\\soleil_hu64.json\",\n",
    "                                  photon_energy_min=ei,\n",
    "                                  photon_energy_max=ef,\n",
    "                                  photon_energy_points=ne,\n",
    "                                  observation_point=20,\n",
    "                                  hor_slit=1e-23,\n",
    "                                  ver_slit=1e-23,\n",
    "                                  Kv_symmetry=-1,\n",
    "                                  electron_trajectory=True,\n",
    "                                  magnetic_measurement=r\".\\light_sources\\tabulated_hu64.dat\")\n",
    "\n",
    "eTraj_ideal = und.read_electron_trajectory(r\".\\example_01\\SOLEIL-tabU64mm_on_axis_eTraj.dat\")\n",
    "magField = np.asarray([eTraj_ideal[\"Z\"], eTraj_ideal[\"Bx\"], eTraj_ideal[\"By\"], eTraj_ideal[\"Bz\"]]).T\n",
    "magField = und.generate_srw_magnetic_field(magField, r\".\\example_01\\SOLEIL-tabU64mm_srw_magField.dat\")"
   ]
  },
  {
   "cell_type": "code",
   "execution_count": null,
   "metadata": {},
   "outputs": [],
   "source": [
    "spectrum = read_undulator_spectrum([\".\\example_01\\SOLEIL-tabU64mm_on_axis_spectrum.pickle\"])\n",
    "\n",
    "img = BarcPlotManager(spectrum[\"spectrum\"][\"flux\"],  spectrum[\"spectrum\"][\"energy\"])\n",
    "img.additional_info(None, \"energy [eV]\",  \"spectral flux [ph/s/0.1%bw]\")\n",
    "img.aesthetics(400, True, True, 3 , 1, True, 4).info_1d_plot(2, None, 1, \"-\", False, 0, 1).plot_1d(enable=True)"
   ]
  },
  {
   "cell_type": "markdown",
   "metadata": {},
   "source": [
    "### Calculation of the on spectrum of an tabulated planar undulator **through a slit**\n",
    "\n",
    "This example show different ways or calling ```xoppy.undulator_spectrum(*args, **kwargs)``` for a slit 20m (100 µrad) downstream the centre of the straight section - emittance and energy spread are taken into account in this calculation"
   ]
  },
  {
   "cell_type": "code",
   "execution_count": null,
   "metadata": {},
   "outputs": [],
   "source": [
    "energy, flux = und.undulator_spectrum(file_name=\".\\example_01\\SOLEIL-tabU64mm_slit_me\",\n",
    "                                  json_file=\".\\light_sources\\soleil_hu64.json\",\n",
    "                                  photon_energy_min=ei,\n",
    "                                  photon_energy_max=ef,\n",
    "                                  photon_energy_points=ne,\n",
    "                                  observation_point=20,\n",
    "                                  hor_slit=2e-3,\n",
    "                                  ver_slit=2e-3,\n",
    "                                  Kv_symmetry=-1,\n",
    "                                  magnetic_measurement=r\".\\light_sources\\tabulated_hu64.dat\",\n",
    "                                  number_macro_electrons = 1000,\n",
    "                                  parallel = True,\n",
    "                                  )"
   ]
  },
  {
   "cell_type": "code",
   "execution_count": null,
   "metadata": {},
   "outputs": [],
   "source": [
    "spectrum = read_undulator_spectrum([\".\\example_01\\SOLEIL-tabU64mm_slit_me_spectrum.pickle\"])\n",
    "\n",
    "img = BarcPlotManager(spectrum[\"spectrum\"][\"flux\"],  spectrum[\"spectrum\"][\"energy\"])\n",
    "img.additional_info(None, \"energy [eV]\",  \"spectral flux [ph/s/0.1%bw]\")\n",
    "img.aesthetics(400, True, True, 3 , 1, True, 4).info_1d_plot(2, None, 1, \"-\", False, 0, 1).plot_1d(enable=True)"
   ]
  },
  {
   "cell_type": "markdown",
   "metadata": {},
   "source": [
    "## Comparison between the ideal and tabulated undulators"
   ]
  },
  {
   "cell_type": "markdown",
   "metadata": {},
   "source": [
    "### On axis flux"
   ]
  },
  {
   "cell_type": "code",
   "execution_count": null,
   "metadata": {},
   "outputs": [],
   "source": [
    "spectrum = read_undulator_spectrum([\".\\example_01\\SOLEIL-U64mm_on_axis_spectrum.pickle\"])\n",
    "img = BarcPlotManager(spectrum[\"spectrum\"][\"flux\"],  spectrum[\"spectrum\"][\"energy\"])\n",
    "img.additional_info(None, \"energy [eV]\",  \"spectral flux [ph/s/0.1%bw]\")\n",
    "img.aesthetics(400, True, True, 3 , 1, True, 2)\n",
    "img.info_1d_plot(4, \"ideal\", 0, '-', False, 0, 1).plot_1d(enable=False, hold=False)\n",
    "spectrum = read_undulator_spectrum([\".\\example_01\\SOLEIL-tabU64mm_on_axis_spectrum.pickle\"])\n",
    "img.image = spectrum[\"spectrum\"][\"flux\"]\n",
    "img.x = spectrum[\"spectrum\"][\"energy\"]\n",
    "img.info_1d_plot(3, \"tabulated\", 0, '-', False, 0, 1).plot_1d(enable=True, hold=True)"
   ]
  },
  {
   "cell_type": "markdown",
   "metadata": {},
   "source": [
    "### Flux through a slit"
   ]
  },
  {
   "cell_type": "code",
   "execution_count": null,
   "metadata": {},
   "outputs": [],
   "source": [
    "spectrum = read_undulator_spectrum([\".\\example_01\\SOLEIL-U64mm_slit_spectrum.pickle\"])\n",
    "img = BarcPlotManager(spectrum[\"spectrum\"][\"flux\"],  spectrum[\"spectrum\"][\"energy\"])\n",
    "img.additional_info(None, \"energy [eV]\",  \"spectral flux [ph/s/0.1%bw]\")\n",
    "img.aesthetics(400, True, True, 3 , 1, True, 2)\n",
    "img.info_1d_plot(4, \"ideal\", 0, '-', False, 0, 1).plot_1d(enable=False, hold=False)\n",
    "spectrum = read_undulator_spectrum([\".\\example_01\\SOLEIL-U64mm_slit_me_spectrum.pickle\"])\n",
    "img.image = spectrum[\"spectrum\"][\"flux\"]\n",
    "img.x = spectrum[\"spectrum\"][\"energy\"]\n",
    "img.info_1d_plot(3, \"ideal me.\", 0, '-', False, 0, 1).plot_1d(enable=False, hold=True)\n",
    "spectrum = read_undulator_spectrum([\".\\example_01\\SOLEIL-tabU64mm_slit_me_spectrum.pickle\"])\n",
    "img.image = spectrum[\"spectrum\"][\"flux\"]\n",
    "img.x = spectrum[\"spectrum\"][\"energy\"]\n",
    "img.info_1d_plot(2, \"tabulated me.\", 0, '-', False, 0, 1).plot_1d(enable=True, hold=True)"
   ]
  },
  {
   "cell_type": "code",
   "execution_count": null,
   "metadata": {},
   "outputs": [],
   "source": [
    "eTraj_ideal = und.read_electron_trajectory(r\".\\example_01\\SOLEIL-U64mm_on_axis_eTraj.dat\")\n",
    "eTraj_meas = und.read_electron_trajectory(r\".\\example_01\\SOLEIL-tabU64mm_on_axis_eTraj.dat\")\n",
    "\n",
    "img = BarcPlotManager(eTraj_ideal[\"X\"]*1E6, eTraj_ideal[\"Z\"])\n",
    "img.additional_info(\"horizontal electron trajectory\", \"longitudinal [m]\", \"[$\\mu$m]\")\n",
    "img.aesthetics(400, True, True, 0 , 1, True, 2)\n",
    "img.info_1d_plot(2, \"ideal\", 0, '-', False, 0, 1).plot_1d(enable=False, hold=False)\n",
    "img.image = eTraj_meas[\"X\"]*1E6\n",
    "img.x = eTraj_meas[\"Z\"]\n",
    "img.info_1d_plot(3, \"tabulated\", 0, '-', False, 0, 1).plot_1d(enable=True, hold=True)\n",
    "\n",
    "img = BarcPlotManager(eTraj_ideal[\"By\"], eTraj_ideal[\"Z\"])\n",
    "img.additional_info(\"vertical magnetic field\", \"longitudinal [m]\", \"[T]\")\n",
    "img.aesthetics(400, True, True, 0 , 1, True, 2)\n",
    "img.info_1d_plot(2, \"ideal\", 0, '-', False, 0, 1).plot_1d(enable=False, hold=False)\n",
    "img.image = eTraj_meas[\"By\"]\n",
    "img.x = eTraj_meas[\"Z\"]\n",
    "img.info_1d_plot(3, \"tabulated\", 0, '-', False, 0, 1).plot_1d(enable=True, hold=True)"
   ]
  },
  {
   "cell_type": "code",
   "execution_count": null,
   "metadata": {},
   "outputs": [],
   "source": []
  }
 ],
 "metadata": {
  "kernelspec": {
   "display_name": "oasys",
   "language": "python",
   "name": "python3"
  },
  "language_info": {
   "codemirror_mode": {
    "name": "ipython",
    "version": 3
   },
   "file_extension": ".py",
   "mimetype": "text/x-python",
   "name": "python",
   "nbconvert_exporter": "python",
   "pygments_lexer": "ipython3",
   "version": "3.8.18"
  }
 },
 "nbformat": 4,
 "nbformat_minor": 2
}
